{
 "cells": [
  {
   "cell_type": "markdown",
   "metadata": {},
   "source": [
    "# Практическое занятие №3\n",
    "\n",
    "П.Н. Советов, РТУ МИРЭА"
   ]
  },
  {
   "cell_type": "markdown",
   "metadata": {},
   "source": [
    "## Часть 1"
   ]
  },
  {
   "cell_type": "markdown",
   "metadata": {},
   "source": [
    "Привести примеры кода, которые соответствуют следующим нарушениям PEP 8:\n",
    "\n",
    "1. whitespace before '('.\n",
    "1. missing whitespace around operator.\n",
    "1. missing whitespace after ','.\n",
    "1. unexpected spaces around keyword / parameter equals.\n",
    "1. expected 2 blank lines, found 1.\n",
    "1. multiple statements on one line (colon).\n",
    "1. multiple statements on one line (semicolon).\n",
    "1. comparison to None should be 'if cond is None:'.\n",
    "1. comparison to True should be 'if cond is True:' or 'if cond:'.\n",
    "\n",
    "Для быстрой проверки используйте сайт [pep8online.com](http://pep8online.com)."
   ]
  },
  {
   "cell_type": "markdown",
   "metadata": {},
   "source": [
    "Неконтролируемый импорт с помощью `*`, как известно, в Питоне не поощряется. Попробуйте сделать его контролируемым со стороны модуля. Чтобы использование звездочки приводило к импорту пользователю только определенного круга имен вашего модуля."
   ]
  },
  {
   "cell_type": "markdown",
   "metadata": {},
   "source": [
    "Создать учебный пакет, состоящий из нескольких модулей и JSON-файла. Получить дистрибутив, готовый для установки с помощью pip. Проверить результат установки в виртуальном окружении."
   ]
  },
  {
   "cell_type": "markdown",
   "metadata": {},
   "source": [
    "Написать функцию, которая добавляет информацию о возникшем исключении (класс, сообщение, трассировка) в лог-файл. Функция не должна обрабатывать исключения. На вход функции, которую необходимо разработать, поступает ссылка на выполняемую пользовательскую функцию:\n",
    "\n",
    "```Python\n",
    "def run_with_log(func):\n",
    "    ...\n",
    "```"
   ]
  },
  {
   "cell_type": "markdown",
   "metadata": {},
   "source": [
    "Реализовать модель сегрегации Шеллинга в Matplotlib. На двумерной сетке находятся агенты двух групп. На каждой клетке может находиться не более 1 агента. Агент \"счастлив\", если, как минимум, заданный процент ближайших соседей относится к его группе. В противном случае агент переезжает на иное, свободное место.\n",
    "\n",
    "Ввести следующие параметры: размер популяции, размеры сетки, процентное соотношение агентов двух групп, пороговое значение \"толерантности\", количество шагов моделирования.\n",
    "\n",
    "1. Реализовать отображение агентов в виде квадратов двух цветов на целочисленной сетке.\n",
    "1. Случайно разместить агентов, учитывая запрет на совпадение координат.\n",
    "1. Реализовать функцию `distance` на основе метрики манхэттенского расстояния.\n",
    "1. Реализовать функцию `is_happy`.\n",
    "1. Изобразить график исходного расположения агентов и график расположения спустя N шагов моделирования.\n",
    "1. Изобразить график изменения состояния \"настроения\" агентов.\n",
    "1. (повышенной сложности) Реализовать анимацию шагов моделирования."
   ]
  },
  {
   "cell_type": "markdown",
   "metadata": {},
   "source": [
    "## Часть 2"
   ]
  },
  {
   "cell_type": "markdown",
   "metadata": {},
   "source": [
    "В следующих задачах визуализация данных используется для нахождения ответов на простые вопросы. В каждом конкретном случае необходимо предложить предпочтительный метод визуализации в Matplotlib. Приветствуются идеи для обнаружения новых фактов из данных."
   ]
  },
  {
   "cell_type": "markdown",
   "metadata": {},
   "source": [
    "Проанализировать данные, полученные от почтового робота:"
   ]
  },
  {
   "cell_type": "code",
   "execution_count": 192,
   "metadata": {},
   "outputs": [],
   "source": [
    "import json\n",
    "import email.utils\n",
    "\n",
    "with open('pract3/table.json', encoding='utf8') as f:\n",
    "    table = json.loads(f.read()) # Таблица решений задач\n",
    "    \n",
    "with open('pract3/failed.json', encoding='utf8') as f:\n",
    "    failed = json.loads(f.read()) # Данные по ошибкам\n",
    "    \n",
    "with open('pract3/messages.json', encoding='utf8') as f:\n",
    "    messages = json.loads(f.read()) # Полученные сообщения\n",
    "    \n",
    "messages = [(m['subj'].upper(), email.utils.parsedate(m['date'])) for m in messages]"
   ]
  },
  {
   "cell_type": "markdown",
   "metadata": {},
   "source": [
    "С помощью графиков ответить на следующие вопросы:\n",
    "\n",
    "1. Как по времени суток распределяется активность студентов?\n",
    "1. Как по дням недели распределяется активность студентов?\n",
    "1. В каких группах было отправлено больше всего сообщений?\n",
    "1. В каких группах было получено больше всего правильных решений?\n",
    "1. Какие задачи оказались самыми легкими, самыми сложными?\n",
    "1. Какие распространенные ошибки совершали студенты?"
   ]
  },
  {
   "cell_type": "markdown",
   "metadata": {},
   "source": [
    "Проанализировать [базу данных](https://github.com/Newbilius/Old-Games_DOS_Game_Gauntlet/blob/master/GAMES.csv) старых компьютерных игр.\n",
    "\n",
    "С помощью графиков ответить на следующие вопросы:\n",
    "1. Какие годы были самыми популярными с точки зрения выхода игр?\n",
    "1. Какие жанры были популярны в различные периоды времени?"
   ]
  },
  {
   "cell_type": "markdown",
   "metadata": {},
   "source": [
    "Проверить с помощью собственных графиков результаты, полученные в [Python Developers Survey 2019 Results](https://www.jetbrains.com/lp/python-developers-survey-2019/). Исходные данные находятся [здесь](https://drive.google.com/drive/folders/1GW86M_QLFOA2KyeWeb8hzBj_RqQIXmAU)."
   ]
  }
 ],
 "metadata": {
  "kernelspec": {
   "display_name": "Python 3",
   "language": "python",
   "name": "python3"
  },
  "language_info": {
   "codemirror_mode": {
    "name": "ipython",
    "version": 3
   },
   "file_extension": ".py",
   "mimetype": "text/x-python",
   "name": "python",
   "nbconvert_exporter": "python",
   "pygments_lexer": "ipython3",
   "version": "3.8.5"
  }
 },
 "nbformat": 4,
 "nbformat_minor": 4
}
