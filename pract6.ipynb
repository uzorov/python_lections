{
 "cells": [
  {
   "cell_type": "markdown",
   "metadata": {},
   "source": [
    "# Практическое занятие №6\n",
    "\n",
    "П.Н. Советов, РТУ МИРЭА"
   ]
  },
  {
   "cell_type": "markdown",
   "metadata": {},
   "source": [
    "## Часть 1"
   ]
  },
  {
   "cell_type": "markdown",
   "metadata": {},
   "source": [
    "**Напишите функцию deriv для приближенного вычисления производной в заданной точке**.\n",
    "\n",
    "Пример работы:\n",
    "\n",
    "```Python\n",
    ">>> deriv(lambda x: x ** 3)(5)\n",
    "75.00014999664018\n",
    "```"
   ]
  },
  {
   "cell_type": "markdown",
   "metadata": {},
   "source": [
    "**Создайте вариант именованного кортежа с помощью ФВП.**\n",
    "\n",
    "Классы и готовые структуры данных (словари, кортежи и так далее) использовать нельзя.\n",
    "\n",
    "Пример работы:\n",
    "\n",
    "```Python\n",
    ">>> p1 = person(name='Иван', age=20)\n",
    ">>> p2 = replace(replace(p1, 'name', 'Алексей'), 'age', 21)\n",
    ">>> get(p1, 'name'), get(p1, 'age')\n",
    "('Иван', 20)\n",
    ">>> get(p2, 'name'), get(p2, 'age')\n",
    "('Алексей', 21)\n",
    "```"
   ]
  },
  {
   "cell_type": "markdown",
   "metadata": {},
   "source": [
    "**Создайте тип данных односвязный список с помощью ФВП**.\n",
    "\n",
    "При создании списка не использовать классы, готовые списки, кортежи и прочее.\n",
    "\n",
    "Добавьте ряд операций в функциональном стиле:\n",
    "\n",
    "1. Создайте функцию pair(head, tail), которая создает элемент списка.\n",
    "1. Создайте функции first(lst) (возвращает значение головы списка) и rest(rst) (возвращает хвост списка).\n",
    "1. Создайте функцию make_list(`*args`), которая создает список на основе аргументов.\n",
    "1. Создайте функцию list_to_string(lst), возвращающую строку, содержащую элементы списка.\n",
    "1. Создайте функцию list_range(low, high), возвращающую список чисел от low до high включительно.\n",
    "1. Создайте функцию foldl(func, lst, acc), вычисляющую свертку элементов списка, аналогично reduce.\n",
    "1. Создайте функцию list_sum(lst) для вычисления суммы элементов списка с помощью foldl.\n",
    "1. Создайте функцию list_mul(lst) для вычисления факториала с помощью foldl и list_range.\n",
    "1. Создайте функцию list_to_py(lst) для преобразования списка в обычный список Питона с помощью foldl.\n",
    "1. Создайте функцию list_reverse(lst) для разворота списка в обратном направлении с помощью foldl.\n",
    "1. Создайте функцию foldr(func, lst, acc), вычисляющую свертку справа для элементов списка.\n",
    "1. Создайте функцию list_map(lst), аналог map, с помощью foldr.\n",
    "1. Создайте функцию list_filter(lst), аналог filter, с помощью foldr.\n",
    "1. Создайте функцию sum_odd_squares для вычисления суммы квадратов нечетных чисел списка с помощью list_sum, list_map и list_filter.\n",
    "1. Создайте функцию list_concat(lst1, lst2) для соединения двух списков.\n",
    "1. Создайте функцию list_replace(lst, index, value) для изменения элемента списка по индексу."
   ]
  },
  {
   "cell_type": "markdown",
   "metadata": {},
   "source": [
    "**Реализуйте механизм undo/redo в функциональном стиле для следующей программы:**\n",
    "\n",
    "```Python\n",
    "import turtle\n",
    "\n",
    "turtle.speed('fastest')\n",
    "screen = turtle.Screen()\n",
    "  \n",
    "def line_func(x, y):\n",
    "    turtle.goto(x, y)\n",
    "\n",
    "def undo_func():\n",
    "    turtle.goto(0, 0)\n",
    "    turtle.clear()\n",
    "    print('undo')\n",
    "\n",
    "def redo_func():\n",
    "    turtle.goto(0, 0)\n",
    "    turtle.clear()\n",
    "    print('redo')\n",
    "  \n",
    "screen.onclick(line_func)\n",
    "screen.onkey(undo_func, \"u\")\n",
    "screen.onkey(redo_func, \"r\")\n",
    "screen.listen()\n",
    "screen.mainloop()\n",
    "```"
   ]
  },
  {
   "cell_type": "markdown",
   "metadata": {},
   "source": [
    "**Создайте декоратор make_perf для получения статистики по количеству вызовов функций.**\n",
    "\n",
    "Пример работы:\n",
    "\n",
    "```Python\n",
    ">>> PERF = {}\n",
    ">>> perf = make_perf(PERF)\n",
    ">>> @perf\n",
    "def fact(n):\n",
    "\t...\n",
    "\t\n",
    ">>> @perf\n",
    "def fib(n):\n",
    "\t...\n",
    "\n",
    ">>> fact(10), fib(27)\n",
    "3628800 196418\n",
    ">>> print(PERF)\n",
    "{'fact': 10, 'fib': 635621}\n",
    "```"
   ]
  },
  {
   "cell_type": "markdown",
   "metadata": {},
   "source": [
    "**Создайте декоратор memo для реализации механизма мемоизации. Для проверки используйте функции из предыдущей задачи.**\n",
    "\n",
    "Пример работы:\n",
    "\n",
    "```Python\n",
    ">>> @memo\n",
    "@perf\n",
    "def fib(n):\n",
    "\t...\n",
    "    \n",
    ">>> fib(27)\n",
    "196418\n",
    ">>> PERF\n",
    "{'fact': 10, 'fib': 28}\n",
    "```"
   ]
  },
  {
   "cell_type": "markdown",
   "metadata": {},
   "source": [
    "**Реализуйте рекурсивное вычисление факториала в виде выражения**.\n",
    "\n",
    "Реализовать без использования функций, переменных (в том числе без имени факториала) и присваиваний."
   ]
  },
  {
   "cell_type": "markdown",
   "metadata": {},
   "source": [
    "**Реализуйте язык запросов (подмножество операций реляционной алгебры) с помощью генераторов.**\n",
    "\n",
    "Это упражнение вдохновлено работой [A SQL to C Compiler in 500 Lines of Code](https://www.repository.cam.ac.uk/bitstream/handle/1810/293479/paper.pdf).\n",
    "\n",
    "1. Реализуйте генератор Scan('filename.csv'), который выдает очередную строку таблицы.\n",
    "1. Реализуйте функцию Print(parent), которая печатает все строки таблицы.\n",
    "1. Реализуйте генератор Filter(pred, filename), выдающий строки таблицы, для которых выполняется предикат pred. Для создания предикатов реализуйте ФВП Eq(x, y), Ne(x, y), Value(x), Field(x).\n",
    "1. Реализуйте генератор Project(new_schema, parent_schema, parent), который выполняет операцию проекции.\n",
    "1. Реализуйте генератор Join(left, right), который выполняет операцию внутреннего соединения с помощью вложенных циклов.\n",
    "\n",
    "Примеры запросов:\n",
    "\n",
    "```Python\n",
    "# select room, title from talks.csv where time='09:00 AM'\n",
    "Project(['room', 'title'], ['room', 'title'],\n",
    "        Filter(Eq(Field('time'), Value('09:00 AM')), Scan('talks.csv')))\n",
    "\n",
    "\n",
    "# select * from (select time, room, title as title1 from talks.csv)\n",
    "# join (select time, room, title as title2 from talks.csv)\n",
    "# where title1 <> title2\n",
    "Filter(Ne(Field('title1'), Field('title2')), Join(\n",
    "       Project(['time', 'room', 'title1'], [\n",
    "               'time', 'room', 'title'], Scan('talks.csv')),\n",
    "       Project(['time', 'room', 'title2'], ['time', 'room', 'title'], Scan('talks.csv')))\n",
    "```"
   ]
  },
  {
   "cell_type": "markdown",
   "metadata": {},
   "source": [
    "## Часть 2"
   ]
  },
  {
   "cell_type": "code",
   "execution_count": 1,
   "metadata": {},
   "outputs": [],
   "source": [
    "import math\n",
    "import matplotlib.pyplot as plt\n",
    "import numpy as np"
   ]
  },
  {
   "cell_type": "markdown",
   "metadata": {},
   "source": [
    "**Изобразите [фрактал Жюлиа](http://paulbourke.net/fractals/juliaset/).**\n",
    "\n",
    "Реализуйте его сначала на стандартном Питоне, а затем напишите версию на NumPy (с булевой индексацией и единственным циклом). Сравните быстродействие обоих результатов.\n",
    "\n",
    "![](pract6/julia.png)"
   ]
  },
  {
   "cell_type": "markdown",
   "metadata": {},
   "source": [
    "**Реализуйте [алгоритм Флойда-Стейнберга](https://intuit.ru/studies/courses/993/163/lecture/4511?page=3) с помощью NumPy.**\n",
    "\n",
    "Старайтесь максимально использовать возможности NumPy.\n",
    "\n",
    "Пример работы:\n",
    "\n",
    "![](pract6/dither.jpg)\n",
    "\n",
    "![](pract6/dither_res.png)"
   ]
  }
 ],
 "metadata": {
  "kernelspec": {
   "display_name": "Python 3",
   "language": "python",
   "name": "python3"
  },
  "language_info": {
   "codemirror_mode": {
    "name": "ipython",
    "version": 3
   },
   "file_extension": ".py",
   "mimetype": "text/x-python",
   "name": "python",
   "nbconvert_exporter": "python",
   "pygments_lexer": "ipython3",
   "version": "3.8.5"
  }
 },
 "nbformat": 4,
 "nbformat_minor": 4
}
