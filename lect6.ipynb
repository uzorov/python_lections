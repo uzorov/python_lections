{
 "cells": [
  {
   "cell_type": "markdown",
   "metadata": {},
   "source": [
    "# Лекция №6. Функциональное программирование\n",
    "\n",
    "П.Н. Советов, РТУ МИРЭА"
   ]
  },
  {
   "cell_type": "markdown",
   "metadata": {},
   "source": [
    "## Введение"
   ]
  },
  {
   "cell_type": "markdown",
   "metadata": {},
   "source": [
    "До сих пор мы, в основном, явно указывали в программах на Питоне последовательность действий, содержащих присваивания и изменяемые данные. Это соответствует императивному подходу к программированию.\n",
    "\n",
    "В функциональном программировании, в противовес программированию императивному, основной операцией является применение функций к своим аргументам. Такие функции являются \"чистыми\" в математическом смысле, то есть результат их выполнения полностью определяется входными аргументами. В противоположность чистым функциям, вычисление функции, обладающей побочным эффектом, зависит неявным образом от окружения. Например, функция random из одноименного модуля стандартной библиотеки Питона использует в своей работе глобальную переменную.\n",
    "\n",
    "При анализе императивной программы программисту приходится в уме пошагово имитировать работу компьютера. В функциональном программировании используется более простая, чем в императивном программировании, подстановочная модель вычислений (выражения заменяются их результатами), которой программист может пользоваться умозрительно с большим удобством.\n",
    "\n",
    "Важным свойством программ, которое обеспечивается функциональным программированием, является компонуемость или сочетаемость — сложные программы строятся, свободно используя простые строительные блоки-функции, в духе блоков игрового конструктора. В Питоне компонуемость не всегда выдерживается. К примеру, мы не можем поместить обычный for или if внутрь некоторого выражения. Конечно, мы могли бы использовать списковое включение или тернарный if, но эти конструкции обладают рядом ограничений, то есть плохо компонуются.\n",
    "\n",
    "Остается вопрос, каким образом функциональные программы, без присваиваний и изменяемых данных, могут делать что-то полезное. При использовании функционального стиля программирования в таком языке, как Питон, предпочтительной является типовая архитектура системы под названием \"функциональное ядро и императивная оболочка\" (Functional core, imperative shell):\n",
    "\n",
    "1. Ключевые вычислительные задачи и задачи преобразования данных формируют функциональное ядро системы. Здесь применяются только чистые функции и неизменяемые типы данных.\n",
    "1. Работа с внешней средой, ввод/вывод, вспомогательные задачи организуются с помощью императивной оболочки."
   ]
  },
  {
   "cell_type": "markdown",
   "metadata": {},
   "source": [
    "## Еще раз о пространствах имен и функциях"
   ]
  },
  {
   "cell_type": "markdown",
   "metadata": {},
   "source": [
    "В Питоне используется несколько пространств имен, вложенных друг в друга:\n",
    "\n",
    "1. Пространство имен модуля (globals), которое включает в себя пространство имен встроенных функций (builtins).\n",
    "1. Пространство имен объемлющих функций (nonlocal).\n",
    "1. Пространство имен текущей функции (locals).\n",
    "\n",
    "Переменная в функции может относиться только к одному из этих пространств имен. Рассмотрим следующий пример:"
   ]
  },
  {
   "cell_type": "code",
   "execution_count": 1,
   "metadata": {},
   "outputs": [],
   "source": [
    "a = 42\n",
    "\n",
    "def f():\n",
    "    print(a)\n",
    "    a = 1\n",
    "    \n",
    "# Раскомментируйте, чтобы получить ошибку\n",
    "# f()"
   ]
  },
  {
   "cell_type": "markdown",
   "metadata": {},
   "source": [
    "Компилятор Питона при трансляции функции руководствуется следующими правилами:\n",
    "1. Если `a` не используется в левой части присваивания, а также отсутствует в объемлющих функциях, то `a` трактуется, как элемент из globals.\n",
    "1. Если `a` не используется в левой части присваивания, но присутствует в объемлющей функции, то формируется nonlocal-ссылка на `a` из объемлющей функции.\n",
    "1. Если `a` присваивается некоторое значение, то `a` является элементом locals.\n",
    "\n",
    "В примере выше `a` трактуется, как локальная переменная, поэтому вызов print до присваивания приводит к ошибке. Разумеется, с помощью global или nonlocal (о нем будет сказано далее) можно явно указать, к какому пространству имен принадлежит `a`:"
   ]
  },
  {
   "cell_type": "code",
   "execution_count": 43,
   "metadata": {},
   "outputs": [
    {
     "name": "stdout",
     "output_type": "stream",
     "text": [
      "42\n"
     ]
    }
   ],
   "source": [
    "a = 42\n",
    "\n",
    "def f():\n",
    "    global a\n",
    "    print(a)\n",
    "    a = 1\n",
    "\n",
    "f()"
   ]
  },
  {
   "cell_type": "markdown",
   "metadata": {},
   "source": [
    "## Функции высшего порядка"
   ]
  },
  {
   "cell_type": "markdown",
   "metadata": {},
   "source": [
    "В Питоне функции являются объектами первого класса. Это означает, что функции можно использовать, как аргументы, возвращать из функций, а также записывать в переменные. Это позволяет использовать важнейший элемент функционального программирования — функции высшего порядка.\n",
    "\n",
    "Функция высшего порядка (ФВП), помимо значений других типов, использует функции в качестве своих аргументов/результата. В математике известны примеры ФВП. Это, например, производные и интегралы. В современном программировании без ФВП тоже трудно обойтись: даже на языке C стандартная функция сортировки qsort требует ссылки на функцию в качестве одного из своих аргументов.\n",
    "\n",
    "Ниже показан пример ФВП, которая принимает на вход функцию:"
   ]
  },
  {
   "cell_type": "code",
   "execution_count": 2,
   "metadata": {},
   "outputs": [
    {
     "name": "stdout",
     "output_type": "stream",
     "text": [
      "11\n"
     ]
    }
   ],
   "source": [
    "def f(func, arg):\n",
    "    return func(arg)\n",
    "    \n",
    "def incr(x):\n",
    "    return x + 1\n",
    "    \n",
    "print(f(incr, 10))"
   ]
  },
  {
   "cell_type": "markdown",
   "metadata": {},
   "source": [
    "Пример ФВП, возвращающей функцию:"
   ]
  },
  {
   "cell_type": "code",
   "execution_count": 3,
   "metadata": {},
   "outputs": [
    {
     "data": {
      "text/plain": [
       "[0, 10, 20, 30, 40, 50, 60, 70, 80, 90]"
      ]
     },
     "execution_count": 3,
     "metadata": {},
     "output_type": "execute_result"
    }
   ],
   "source": [
    "def f(x):\n",
    "    def func(y):\n",
    "        return y * x\n",
    "    return func\n",
    "\n",
    "g = f(10)\n",
    "[g(x) for x in range(10)]"
   ]
  },
  {
   "cell_type": "markdown",
   "metadata": {},
   "source": [
    "Наконец, пример ФВП, получающей и возвращающей функцию:"
   ]
  },
  {
   "cell_type": "code",
   "execution_count": 4,
   "metadata": {},
   "outputs": [
    {
     "data": {
      "text/plain": [
       "'** ** ** ** ** ** ** ** ** **'"
      ]
     },
     "execution_count": 4,
     "metadata": {},
     "output_type": "execute_result"
    }
   ],
   "source": [
    "def f(g, x):\n",
    "    def func(size):\n",
    "        return ' '.join([g(x) for i in range(size)])\n",
    "    return func\n",
    "\n",
    "def f1(x):\n",
    "    return '*' * x\n",
    "\n",
    "f2 = f(f1, 2)\n",
    "f2(10)"
   ]
  },
  {
   "cell_type": "markdown",
   "metadata": {},
   "source": [
    "### Замыкания"
   ]
  },
  {
   "cell_type": "markdown",
   "metadata": {},
   "source": [
    "Мы уже видели, что вложенные функции в Питоне могут использовать не только аргументы и локальные переменные, но также и свободные переменные — имена из объемлющих функций. Это возможно благодаря механизму лексического замыкания, при котором формируется специальный объект, включающий себя как ссылку на функцию, так и данные, которые функция использует из объемлющих функций.\n",
    "\n",
    "Рассмотрим следующий пример:"
   ]
  },
  {
   "cell_type": "code",
   "execution_count": 5,
   "metadata": {
    "scrolled": true
   },
   "outputs": [
    {
     "name": "stdout",
     "output_type": "stream",
     "text": [
      "15\n",
      "('y',)\n",
      "('x',)\n",
      "10\n"
     ]
    }
   ],
   "source": [
    "def make_adder(x):\n",
    "    def adder(y):\n",
    "        # Замыкание, включающее в себя свободную переменную x\n",
    "        return x + y\n",
    "    return adder\n",
    "    \n",
    "f = make_adder(10)\n",
    "print(f(5))\n",
    "\n",
    "# Переменные adder\n",
    "print(f.__code__.co_varnames)\n",
    "# Свободные переменные adder\n",
    "print(f.__code__.co_freevars)\n",
    "# Значение x из захваченного окружения\n",
    "print(f.__closure__[0].cell_contents)"
   ]
  },
  {
   "cell_type": "markdown",
   "metadata": {},
   "source": [
    "Для модификации захваченной свободной переменной необходимо явно указать с помощью ключевого слова nonlocal, что модифицируемая переменная не является локальной или глобальной, а относится к одной из объемлющих функций:"
   ]
  },
  {
   "cell_type": "code",
   "execution_count": 6,
   "metadata": {},
   "outputs": [
    {
     "name": "stdout",
     "output_type": "stream",
     "text": [
      "2 1 0 2 1 0 2 1 0 2 1 0 2 1 0 2 "
     ]
    }
   ],
   "source": [
    "def make_counter(n):\n",
    "    i = 0\n",
    "    def counter():\n",
    "        nonlocal i # Необходимое указание, поскольку далее используется присваивание\n",
    "        i = i - 1 if i > 0 else n\n",
    "        return i\n",
    "    return counter\n",
    "\n",
    "counter = make_counter(2)\n",
    "\n",
    "for i in range(16):\n",
    "    print(counter(), end=' ')"
   ]
  },
  {
   "cell_type": "markdown",
   "metadata": {},
   "source": [
    "### Анонимные функции"
   ]
  },
  {
   "cell_type": "markdown",
   "metadata": {},
   "source": [
    "Функциональный стиль программирования предполагает создание большого числа ФВП. При этом часто приходится создавать небольшие функции-аргументы, нужные только для одной сиюминутной задачи. В подобных случаях удобнее воспользоваться механизмом создания анонимных функций с помощью ключевого слова lambda.\n",
    "\n",
    "Определение\n",
    "\n",
    "```Python\n",
    "func = lambda аргументы: выражение\n",
    "```\n",
    "\n",
    "эквивалентно следующему:\n",
    "\n",
    "```Python\n",
    "def func(аргументы):\n",
    "    return выражение\n",
    "```\n",
    "\n",
    "Лямбда-выражение можно передать на вход или возвратить из ФВП, как показано ниже:"
   ]
  },
  {
   "cell_type": "code",
   "execution_count": 7,
   "metadata": {},
   "outputs": [
    {
     "data": {
      "text/plain": [
       "'** ** ** ** ** ** ** ** ** **'"
      ]
     },
     "execution_count": 7,
     "metadata": {},
     "output_type": "execute_result"
    }
   ],
   "source": [
    "def f(g, x):\n",
    "    return lambda size: ' '.join([g(x) for i in range(size)])\n",
    "\n",
    "f(lambda x: '*' * x, 2)(10)"
   ]
  },
  {
   "cell_type": "markdown",
   "metadata": {},
   "source": [
    "Еще один пример:"
   ]
  },
  {
   "cell_type": "code",
   "execution_count": 8,
   "metadata": {},
   "outputs": [
    {
     "data": {
      "text/plain": [
       "65536"
      ]
     },
     "execution_count": 8,
     "metadata": {},
     "output_type": "execute_result"
    }
   ],
   "source": [
    "def twice(f):\n",
    "    def g(x):\n",
    "        return f(f(x))\n",
    "    return g\n",
    "\n",
    "twice(twice(lambda x: x * x))(2)"
   ]
  },
  {
   "cell_type": "markdown",
   "metadata": {},
   "source": [
    "Обратите внимание на ограничения lambda. В ее теле могут использоваться только те конструкции, которые доступны в качестве выражения, возвращаемого с помощью return."
   ]
  },
  {
   "cell_type": "markdown",
   "metadata": {},
   "source": [
    "Классическими в функциональном программировании являются функции map, filter и reduce. Они реализованы в Питоне, но для целей более близкого знакомства с ФВП далее приводится упрощенная реализация каждой их них.\n",
    "\n",
    "Функция map принимает на вход унарную функцию и список, а возвращает новый список, элементы которого являются результатами применения функции-аргумента к элементам исходного списка:"
   ]
  },
  {
   "cell_type": "code",
   "execution_count": 9,
   "metadata": {},
   "outputs": [
    {
     "data": {
      "text/plain": [
       "[0, 1, 4, 9, 16, 25, 36, 49, 64, 81]"
      ]
     },
     "execution_count": 9,
     "metadata": {},
     "output_type": "execute_result"
    }
   ],
   "source": [
    "def my_map(func, lst):\n",
    "    res = []\n",
    "    for x in lst:\n",
    "        res.append(func(x))\n",
    "    return res\n",
    "\n",
    "my_map(lambda x: x * x, range(10))"
   ]
  },
  {
   "cell_type": "markdown",
   "metadata": {},
   "source": [
    "Функция filter принимает на вход унарный предикат и список, а возвращает новый список, элементы которого удовлетворяют предикату:"
   ]
  },
  {
   "cell_type": "code",
   "execution_count": 10,
   "metadata": {},
   "outputs": [
    {
     "data": {
      "text/plain": [
       "[1, 3, 5, 7, 9]"
      ]
     },
     "execution_count": 10,
     "metadata": {},
     "output_type": "execute_result"
    }
   ],
   "source": [
    "def my_filter(pred, lst):\n",
    "    res = []\n",
    "    for x in lst:\n",
    "        if pred(x):\n",
    "            res.append(x)\n",
    "    return res\n",
    "\n",
    "my_filter(lambda x: x % 2, range(10))"
   ]
  },
  {
   "cell_type": "markdown",
   "metadata": {},
   "source": [
    "Функция reduce принимает на вход унарную функцию и список, последовательно применяет функцию-аргумент, сводя список до единственного значения:"
   ]
  },
  {
   "cell_type": "code",
   "execution_count": 11,
   "metadata": {},
   "outputs": [
    {
     "data": {
      "text/plain": [
       "45"
      ]
     },
     "execution_count": 11,
     "metadata": {},
     "output_type": "execute_result"
    }
   ],
   "source": [
    "def my_reduce(func, lst):\n",
    "    x = lst[0]\n",
    "    for y in lst[1:]:\n",
    "        x = func(x, y)\n",
    "    return x\n",
    "\n",
    "my_reduce(lambda x, y: x + y, range(10))"
   ]
  },
  {
   "cell_type": "markdown",
   "metadata": {},
   "source": [
    "Вместо функций map и filter в Питоне предпочтительнее использовать уже знакомые нам списковые включения, а также генераторы списков, о которых будет говориться далее."
   ]
  },
  {
   "cell_type": "markdown",
   "metadata": {},
   "source": [
    "### Декораторы"
   ]
  },
  {
   "cell_type": "markdown",
   "metadata": {},
   "source": [
    "Декораторы синтаксически представляют собой аннотации, которые указываются перед аннотируемой функцией. Реализуются они с помощью ФВП, которая принимает на вход функцию и возвращает функцию.\n",
    "\n",
    "Декоратор функции выглядит следующим образом:\n",
    "\n",
    "```Python\n",
    "@decorator\n",
    "def f():\n",
    "    print('...')\n",
    "```    \n",
    "\n",
    "Что эквивалентно выражению\n",
    "\n",
    "```Python\n",
    "def f():\n",
    "    print('...')\n",
    "\n",
    "f = decorator(f)\n",
    "```\n",
    "\n",
    "Простой пример:"
   ]
  },
  {
   "cell_type": "code",
   "execution_count": 44,
   "metadata": {},
   "outputs": [
    {
     "name": "stdout",
     "output_type": "stream",
     "text": [
      "Декоратор сработал.\n",
      "Запуск функции.\n",
      "...\n"
     ]
    }
   ],
   "source": [
    "def decorator(f):\n",
    "    print('Декоратор сработал.')\n",
    "    return f\n",
    "\n",
    "@decorator\n",
    "def f():\n",
    "    print('...')\n",
    "\n",
    "print('Запуск функции.')\n",
    "f()"
   ]
  },
  {
   "cell_type": "markdown",
   "metadata": {},
   "source": [
    "Еще один пример, с использованием ранее определенной функции twice, уже готовой к использованию в качестве декоратора:"
   ]
  },
  {
   "cell_type": "code",
   "execution_count": 12,
   "metadata": {},
   "outputs": [
    {
     "data": {
      "text/plain": [
       "65536"
      ]
     },
     "execution_count": 12,
     "metadata": {},
     "output_type": "execute_result"
    }
   ],
   "source": [
    "@twice\n",
    "def f(x):\n",
    "    return x * x\n",
    "\n",
    "f(f(2))"
   ]
  },
  {
   "cell_type": "markdown",
   "metadata": {},
   "source": [
    "Пример с регистрацией вызовов функции:"
   ]
  },
  {
   "cell_type": "code",
   "execution_count": 13,
   "metadata": {},
   "outputs": [
    {
     "name": "stdout",
     "output_type": "stream",
     "text": [
      "Запуск функции fib(4)\n",
      "Запуск функции fib(3)\n",
      "Запуск функции fib(2)\n",
      "Запуск функции fib(1)\n",
      "Запуск функции fib(0)\n",
      "Запуск функции fib(1)\n",
      "Запуск функции fib(2)\n",
      "Запуск функции fib(1)\n",
      "Запуск функции fib(0)\n"
     ]
    },
    {
     "data": {
      "text/plain": [
       "3"
      ]
     },
     "execution_count": 13,
     "metadata": {},
     "output_type": "execute_result"
    }
   ],
   "source": [
    "def call_tracer(f):\n",
    "    def g(x):\n",
    "        print('Запуск функции {}({})'.format(f.__name__, x))\n",
    "        return f(x)\n",
    "    return g\n",
    "\n",
    "@call_tracer\n",
    "def fib(n):\n",
    "    if n == 0:\n",
    "        return 0\n",
    "    elif n == 1:\n",
    "        return 1\n",
    "    else:\n",
    "        return fib(n - 1) + fib(n - 2)\n",
    "\n",
    "fib(4)"
   ]
  },
  {
   "cell_type": "markdown",
   "metadata": {},
   "source": [
    "Декораторы могут иметь параметры, как показано в примере ниже:"
   ]
  },
  {
   "cell_type": "code",
   "execution_count": 14,
   "metadata": {},
   "outputs": [
    {
     "name": "stdout",
     "output_type": "stream",
     "text": [
      "Запуск\n",
      "10\n"
     ]
    }
   ],
   "source": [
    "def decorator(x):\n",
    "    def func(f):\n",
    "        print(x)\n",
    "        return f\n",
    "    return func\n",
    "    \n",
    "@decorator('Запуск')\n",
    "def my_func(x):\n",
    "    print(x)\n",
    "    \n",
    "my_func(10)"
   ]
  },
  {
   "cell_type": "markdown",
   "metadata": {},
   "source": [
    "Помимо декораторов функции существуют также декораторы класса, которые принимают на вход класс и возвращают класс."
   ]
  },
  {
   "cell_type": "markdown",
   "metadata": {},
   "source": [
    "## Генераторы\n",
    "\n",
    "Генераторы представляют собой особый вид функций, внутри которых находится оператор yield. Этот оператор приостанавливает вычисления внутри функции, сохраняет текущее состояние этих вычислений и, аналогично return, осуществляет возврат в вызывающую функцию. При этом вычисления в генераторе можно возобновить сразу после последнего вызова yield.\n",
    "\n",
    "```Python\n",
    "def func():\n",
    "    ...\n",
    "    yield выражение\n",
    "    ...\n",
    "```\n",
    "\n",
    "Вызов функции-генератора осуществляется особым способом, с помощью функции next, как показано в примере ниже:"
   ]
  },
  {
   "cell_type": "code",
   "execution_count": 15,
   "metadata": {
    "scrolled": true
   },
   "outputs": [
    {
     "name": "stdout",
     "output_type": "stream",
     "text": [
      "<class 'generator'>\n",
      "Начало цикла:\n",
      "0\n",
      "...\n",
      "Следующая итерация:\n",
      "1\n",
      "...\n",
      "Следующая итерация:\n",
      "2\n",
      "...\n",
      "Следующая итерация:\n",
      "3\n",
      "...\n",
      "Следующая итерация:\n",
      "Выход из генератора по исключению\n"
     ]
    }
   ],
   "source": [
    "def countup(n):\n",
    "    print('Начало цикла:')\n",
    "    for i in range(n):\n",
    "        yield i\n",
    "        print('Следующая итерация:')\n",
    "\n",
    "# Создан объект генератора, ему передан аргумент,\n",
    "# но countup еще не начал работу\n",
    "c = countup(4)\n",
    "print(type(c))\n",
    "for i in range(4):\n",
    "    print(next(c)) # выполнение останавливается после yield i\n",
    "    print('...')\n",
    "try:\n",
    "    print(next(c))\n",
    "except StopIteration:\n",
    "    print('Выход из генератора по исключению')\n"
   ]
  },
  {
   "cell_type": "markdown",
   "metadata": {},
   "source": [
    "Генераторы поддерживают протокол итераторов:"
   ]
  },
  {
   "cell_type": "code",
   "execution_count": 16,
   "metadata": {
    "scrolled": false
   },
   "outputs": [
    {
     "name": "stdout",
     "output_type": "stream",
     "text": [
      "Начало цикла:\n",
      "0 Следующая итерация:\n",
      "1 Следующая итерация:\n",
      "2 Следующая итерация:\n",
      "3 Следующая итерация:\n"
     ]
    }
   ],
   "source": [
    "for i in countup(4):\n",
    "    print(i, end=' ')"
   ]
  },
  {
   "cell_type": "code",
   "execution_count": 22,
   "metadata": {},
   "outputs": [
    {
     "data": {
      "text/plain": [
       "[0, 1, 2, 3, 4, 5, 6, 7, 8, 9]"
      ]
     },
     "execution_count": 22,
     "metadata": {},
     "output_type": "execute_result"
    }
   ],
   "source": [
    "def gen():\n",
    "    for i in range(10):\n",
    "        yield i\n",
    "\n",
    "list(gen())"
   ]
  },
  {
   "cell_type": "markdown",
   "metadata": {},
   "source": [
    "В следующем примере генерируются все возможные пароли, символы которых принадлежат некоторому алфавиту. Использование генератора позволяет упростить код и сделать его производительным, поскольку порождение паролей происходит по необходимости, без создания лишних структур данных."
   ]
  },
  {
   "cell_type": "code",
   "execution_count": 17,
   "metadata": {},
   "outputs": [
    {
     "name": "stdout",
     "output_type": "stream",
     "text": [
      "Пароль найден\n"
     ]
    }
   ],
   "source": [
    "def gen_password(abc):\n",
    "    for a in abc:\n",
    "        for b in abc:\n",
    "            for c in abc:\n",
    "                for d in abc:\n",
    "                    yield f'{a}{b}{c}{d}'\n",
    "\n",
    "\n",
    "for p in gen_password('absp'):\n",
    "    if p == 'pass':\n",
    "        print('Пароль найден')\n",
    "        break"
   ]
  },
  {
   "cell_type": "markdown",
   "metadata": {},
   "source": [
    "Предположим, что мы хотим реализовать следующие вычисления:"
   ]
  },
  {
   "cell_type": "code",
   "execution_count": 27,
   "metadata": {
    "scrolled": true
   },
   "outputs": [
    {
     "data": {
      "text/plain": [
       "[0.0,\n",
       " 0.8414709848078965,\n",
       " 0.9092974268256817,\n",
       " 0.1411200080598672,\n",
       " 0.6569865987187891,\n",
       " 0.9893582466233818,\n",
       " 0.4121184852417566,\n",
       " 0.4201670368266409,\n",
       " 0.9906073556948704,\n",
       " 0.6502878401571168]"
      ]
     },
     "execution_count": 27,
     "metadata": {},
     "output_type": "execute_result"
    }
   ],
   "source": [
    "import math\n",
    "\n",
    "my_filter(lambda x: x >= 0, my_map(math.sin, list(range(10000))))[:10]"
   ]
  },
  {
   "cell_type": "markdown",
   "metadata": {},
   "source": [
    "Здесь формируется большое количество промежуточных данных, от которых можно избавиться, если реализовать вычисления \"по необходимости\", с помощью генераторов.\n",
    "\n",
    "Ниже показан более эффективный вариант решения той же задачи с помощью генераторов:"
   ]
  },
  {
   "cell_type": "code",
   "execution_count": 28,
   "metadata": {},
   "outputs": [
    {
     "data": {
      "text/plain": [
       "[0.0,\n",
       " 0.8414709848078965,\n",
       " 0.9092974268256817,\n",
       " 0.1411200080598672,\n",
       " 0.6569865987187891,\n",
       " 0.9893582466233818,\n",
       " 0.4121184852417566,\n",
       " 0.4201670368266409,\n",
       " 0.9906073556948704,\n",
       " 0.6502878401571168]"
      ]
     },
     "execution_count": 28,
     "metadata": {},
     "output_type": "execute_result"
    }
   ],
   "source": [
    "# Сгенерировать бесконечный поток чисел 0, 1, 2, ...\n",
    "def gen_count():\n",
    "    i = 0\n",
    "    while True:\n",
    "        yield i\n",
    "        i += 1\n",
    "\n",
    "def gen_map(func, gen):\n",
    "    for x in gen:\n",
    "        yield func(x)\n",
    "\n",
    "def gen_filter(pred, gen):\n",
    "    for x in gen:\n",
    "        if pred(x):\n",
    "            yield x\n",
    "\n",
    "# Возвратить список n первых сгенерированных элементов\n",
    "def take(n, gen):\n",
    "    return [next(gen) for i in range(n)]\n",
    "\n",
    "take(10, gen_filter(lambda x: x >= 0, gen_map(math.sin, gen_count())))"
   ]
  },
  {
   "cell_type": "markdown",
   "metadata": {},
   "source": [
    "В Питоне существуют генераторы-выражения, которые действуют аналогично уже изученным нами списковым включениям, но явно не порождают список. Генераторы-выражения представляют собой простой синтаксис для описания небольших генераторов:"
   ]
  },
  {
   "cell_type": "code",
   "execution_count": 37,
   "metadata": {},
   "outputs": [
    {
     "name": "stdout",
     "output_type": "stream",
     "text": [
      "[0, 1, 4, 9, 16, 25, 36, 49, 64, 81] <generator object <genexpr> at 0x00000165841F3970> [0, 1, 4, 9, 16, 25, 36, 49, 64, 81]\n"
     ]
    }
   ],
   "source": [
    "lst = [i * i for i in range(10)]\n",
    "gen = (i * i for i in range(10)) # Генератор-выражение\n",
    "print(lst, gen, list(gen))"
   ]
  },
  {
   "cell_type": "code",
   "execution_count": 41,
   "metadata": {},
   "outputs": [
    {
     "name": "stdout",
     "output_type": "stream",
     "text": [
      "2025\n",
      "2025\n"
     ]
    }
   ],
   "source": [
    "print(sum((i ** 3 for i in range(10))))\n",
    "print(sum(i ** 3 for i in range(10))) # Скобки необязательны"
   ]
  },
  {
   "cell_type": "markdown",
   "metadata": {},
   "source": [
    "## Неизменяемые типы данных"
   ]
  },
  {
   "cell_type": "markdown",
   "metadata": {},
   "source": [
    "В Питоне существует аналог изменяемого массива — уже хорошо знакомый нам кортеж. Действительно, элементы кортежа нельзя изменить:"
   ]
  },
  {
   "cell_type": "code",
   "execution_count": 11,
   "metadata": {},
   "outputs": [
    {
     "name": "stdout",
     "output_type": "stream",
     "text": [
      "('a', [50, 'c'])\n"
     ]
    },
    {
     "data": {
      "text/plain": [
       "(1, 2, 42)"
      ]
     },
     "execution_count": 11,
     "metadata": {},
     "output_type": "execute_result"
    }
   ],
   "source": [
    "t1 = (1, 2, 3)\n",
    "t2 = ('a', ['b', 'c'])\n",
    "# t1[2] = 42 Не сработает\n",
    "t2[1][0] = 50 # Сработает, поскольку ссылка на список не изменилась\n",
    "print(t2)\n",
    "\n",
    "def replace(tup, index, val):\n",
    "    '''\n",
    "    Замена элемента кортежа в функциональном стиле.\n",
    "    Возращается новый кортеж.\n",
    "    '''\n",
    "    return tup[:index] + (val,) + tup[index + 1:]\n",
    "\n",
    "replace(t1, 2, 42)"
   ]
  },
  {
   "cell_type": "markdown",
   "metadata": {},
   "source": [
    "Множество в Питоне является изменяемой структурой данных, поэтому не может, в частности, выступать в качестве ключа словаря. Имеется неизменяемый вариант множества — frozenset:"
   ]
  },
  {
   "cell_type": "code",
   "execution_count": 16,
   "metadata": {},
   "outputs": [
    {
     "data": {
      "text/plain": [
       "{frozenset({'a', 'b', 'c'}): 42}"
      ]
     },
     "execution_count": 16,
     "metadata": {},
     "output_type": "execute_result"
    }
   ],
   "source": [
    "s1 = set(['a', 'b', 'c'])\n",
    "d = {}\n",
    "# d[s1] = 42 Не сработает\n",
    "s2 = frozenset(['a', 'b', 'c'])\n",
    "d[s2] = 42\n",
    "d"
   ]
  },
  {
   "cell_type": "markdown",
   "metadata": {},
   "source": [
    "В качестве неполного аналога словаря в Питоне выступает структура данных namedtuple (именованный кортеж):"
   ]
  },
  {
   "cell_type": "code",
   "execution_count": 24,
   "metadata": {},
   "outputs": [
    {
     "name": "stdout",
     "output_type": "stream",
     "text": [
      "Ivan 20\n",
      "Person(name='Ivan', age=21)\n"
     ]
    }
   ],
   "source": [
    "from collections import namedtuple\n",
    "\n",
    "Person = namedtuple('Person', 'name age')\n",
    "p1 = Person(name='Ivan', age=20)\n",
    "print(p1.name, p1.age)\n",
    "# p1.age += 1 Не сработает\n",
    "print(p1._replace(age=p1.age + 1)) # Возвращен новый именованный кортеж"
   ]
  },
  {
   "cell_type": "markdown",
   "metadata": {},
   "source": [
    "## Модуль functools"
   ]
  },
  {
   "cell_type": "markdown",
   "metadata": {},
   "source": [
    "Модуль functools содержит ряд полезных определений, которые используются для функций высшего порядка. В частности, там имеется уже рассмотренная выше функция reduce."
   ]
  },
  {
   "cell_type": "markdown",
   "metadata": {},
   "source": [
    "Декоратор lru_cache осуществляет запоминание (мемоизацию) вычислений чистой функции. Если функция была вызвана повторно с теми же аргументами, то результат будет взят из таблицы:"
   ]
  },
  {
   "cell_type": "code",
   "execution_count": 47,
   "metadata": {},
   "outputs": [
    {
     "name": "stdout",
     "output_type": "stream",
     "text": [
      "0.5376468999997996\n",
      "0.0007041000003482623\n"
     ]
    }
   ],
   "source": [
    "from timeit import timeit\n",
    "from functools import lru_cache\n",
    "\n",
    "fact1 = lambda n: n * fact(n - 1) if n else 1\n",
    "\n",
    "@lru_cache\n",
    "def fact2(n):\n",
    "    return n * fact(n - 1) if n else 1\n",
    "\n",
    "print(timeit(lambda: fact1(1000), number=1000))\n",
    "print(timeit(lambda: fact2(1000), number=1000))"
   ]
  },
  {
   "cell_type": "markdown",
   "metadata": {},
   "source": [
    "Функция partial принимает на вход функцию и возвращает новую функцию, некоторые аргументы которой уже содержат конкретные значения:"
   ]
  },
  {
   "cell_type": "code",
   "execution_count": 50,
   "metadata": {},
   "outputs": [
    {
     "name": "stdout",
     "output_type": "stream",
     "text": [
      "100\n"
     ]
    }
   ],
   "source": [
    "from functools import partial\n",
    "\n",
    "def power(x, n):\n",
    "    return x ** n\n",
    "\n",
    "power2 = partial(power, n=2)\n",
    "# Эквивалентно power2 = lambda x: power(x, n=2)\n",
    "\n",
    "print(power2(10))"
   ]
  },
  {
   "cell_type": "markdown",
   "metadata": {},
   "source": [
    "## Модуль itertools"
   ]
  },
  {
   "cell_type": "markdown",
   "metadata": {},
   "source": [
    "Модуль itertools предназначен для работы с итераторами (генераторами) в высокопроизводительном функциональном стиле."
   ]
  },
  {
   "cell_type": "markdown",
   "metadata": {},
   "source": [
    "Итератор chain группирует итераторы-аргументы для последовательного выполнения:"
   ]
  },
  {
   "cell_type": "code",
   "execution_count": 57,
   "metadata": {},
   "outputs": [
    {
     "name": "stdout",
     "output_type": "stream",
     "text": [
      "1 2 3 4 a b c d 10 11 12 13 14 "
     ]
    }
   ],
   "source": [
    "from itertools import chain\n",
    "\n",
    "for i in chain(range(1, 5), \"abcd\", range(10, 15)):\n",
    "    print(i, end=' ')"
   ]
  },
  {
   "cell_type": "markdown",
   "metadata": {},
   "source": [
    "В itertools имеется ряд итераторов для операций из области комбинаторики:"
   ]
  },
  {
   "cell_type": "code",
   "execution_count": 63,
   "metadata": {},
   "outputs": [
    {
     "name": "stdout",
     "output_type": "stream",
     "text": [
      "('a', 'a')\n",
      "('a', 'b')\n",
      "('a', 'c')\n",
      "('a', 'd')\n",
      "('b', 'a')\n",
      "('b', 'b')\n",
      "('b', 'c')\n",
      "('b', 'd')\n",
      "('c', 'a')\n",
      "('c', 'b')\n",
      "('c', 'c')\n",
      "('c', 'd')\n",
      "('d', 'a')\n",
      "('d', 'b')\n",
      "('d', 'c')\n",
      "('d', 'd')\n"
     ]
    }
   ],
   "source": [
    "from itertools import product\n",
    "\n",
    "for i in product('abcd', repeat=2):\n",
    "    print(i)"
   ]
  },
  {
   "cell_type": "code",
   "execution_count": 61,
   "metadata": {},
   "outputs": [
    {
     "name": "stdout",
     "output_type": "stream",
     "text": [
      "('a', 'b', 'c')\n",
      "('a', 'b', 'd')\n",
      "('a', 'c', 'd')\n",
      "('b', 'c', 'd')\n"
     ]
    }
   ],
   "source": [
    "from itertools import combinations\n",
    "\n",
    "for i in combinations('abcd', 3):\n",
    "    print(i)"
   ]
  },
  {
   "cell_type": "code",
   "execution_count": 65,
   "metadata": {
    "scrolled": true
   },
   "outputs": [
    {
     "name": "stdout",
     "output_type": "stream",
     "text": [
      "('a', 'b')\n",
      "('a', 'c')\n",
      "('a', 'd')\n",
      "('b', 'a')\n",
      "('b', 'c')\n",
      "('b', 'd')\n",
      "('c', 'a')\n",
      "('c', 'b')\n",
      "('c', 'd')\n",
      "('d', 'a')\n",
      "('d', 'b')\n",
      "('d', 'c')\n"
     ]
    }
   ],
   "source": [
    "from itertools import permutations\n",
    "\n",
    "for i in permutations('abcd', 2):\n",
    "    print(i)"
   ]
  },
  {
   "cell_type": "markdown",
   "metadata": {},
   "source": [
    "Итератор count является расширенной версией реализованной выше функции gen_count, а islice позволяет сделать срез для итератора:"
   ]
  },
  {
   "cell_type": "code",
   "execution_count": 71,
   "metadata": {
    "scrolled": true
   },
   "outputs": [
    {
     "data": {
      "text/plain": [
       "[5, 6, 7, 8, 9, 10, 11, 12, 13, 14]"
      ]
     },
     "execution_count": 71,
     "metadata": {},
     "output_type": "execute_result"
    }
   ],
   "source": [
    "from itertools import count, islice\n",
    "\n",
    "list(islice((i for i in count(5)), 0, 10))"
   ]
  },
  {
   "cell_type": "markdown",
   "metadata": {},
   "source": [
    "Итератор groupby последовательно объединяет в группы элементы итератора-аргумента по заданному ключу."
   ]
  },
  {
   "cell_type": "code",
   "execution_count": 85,
   "metadata": {},
   "outputs": [
    {
     "name": "stdout",
     "output_type": "stream",
     "text": [
      "[('A', 4), ('B', 3), ('C', 2), ('D', 1), ('A', 2), ('B', 3)]\n",
      "[(3, ['one', 'one', 'two']), (1, ['3', '3', '3'])]\n"
     ]
    }
   ],
   "source": [
    "from itertools import groupby\n",
    "\n",
    "# Ключом по умолчанию является сам элемент\n",
    "print([(k, len(list(g))) for k, g in groupby('AAAABBBCCDAABBB')])\n",
    "\n",
    "# Ключом является len\n",
    "print([(k, list(g)) for k, g in groupby(['one', 'one', 'two', '3', '3', '3'], key=len)])"
   ]
  },
  {
   "cell_type": "markdown",
   "metadata": {},
   "source": [
    "## Литература\n",
    "\n",
    "Для продолжения знакомства с функциональным программированием рекомендуются следующие фундаментальные учебники:\n",
    "\n",
    "1. Абельсон Харольд, Сассман Джеральд Джей. \"Структура и Интерпретация Компьютерных Программ\".\n",
    "1. Пирс Бенджамин. \"Типы в языках программирования\".\n",
    "1. Окасаки Крис. \"Чисто функциональные структуры данных\"."
   ]
  }
 ],
 "metadata": {
  "kernelspec": {
   "display_name": "Python 3",
   "language": "python",
   "name": "python3"
  },
  "language_info": {
   "codemirror_mode": {
    "name": "ipython",
    "version": 3
   },
   "file_extension": ".py",
   "mimetype": "text/x-python",
   "name": "python",
   "nbconvert_exporter": "python",
   "pygments_lexer": "ipython3",
   "version": "3.8.5"
  }
 },
 "nbformat": 4,
 "nbformat_minor": 4
}
